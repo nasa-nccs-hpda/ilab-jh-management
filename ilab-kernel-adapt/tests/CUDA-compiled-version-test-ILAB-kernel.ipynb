{
 "cells": [
  {
   "cell_type": "code",
   "execution_count": 1,
   "id": "76b95c73-c58a-4867-a22b-95f16cc95b3a",
   "metadata": {},
   "outputs": [
    {
     "name": "stdout",
     "output_type": "stream",
     "text": [
      "0\n",
      "/panfs/ccds02/app/modules/jupyter/ilab/dev/kernel/lib/python3.12/site-packages/torch/__init__.py\n",
      "True\n",
      "12040 cuda compiled version\n"
     ]
    }
   ],
   "source": [
    "import torch\n",
    "print(torch.cuda.current_device())\n",
    "print(torch.__file__)\n",
    "print(torch.cuda.is_available())\n",
    "print(torch._C._cuda_getCompiledVersion(), 'cuda compiled version')"
   ]
  },
  {
   "cell_type": "code",
   "execution_count": null,
   "id": "49852127-3f67-4120-b9a0-26b83649022e",
   "metadata": {},
   "outputs": [],
   "source": []
  },
  {
   "cell_type": "code",
   "execution_count": null,
   "id": "39a9dab1-7cc9-4412-96a9-ef2d355136a8",
   "metadata": {},
   "outputs": [],
   "source": []
  }
 ],
 "metadata": {
  "kernelspec": {
   "display_name": "DEV Kernel",
   "language": "python",
   "name": "dev"
  },
  "language_info": {
   "codemirror_mode": {
    "name": "ipython",
    "version": 3
   },
   "file_extension": ".py",
   "mimetype": "text/x-python",
   "name": "python",
   "nbconvert_exporter": "python",
   "pygments_lexer": "ipython3",
   "version": "3.12.11"
  }
 },
 "nbformat": 4,
 "nbformat_minor": 5
}
