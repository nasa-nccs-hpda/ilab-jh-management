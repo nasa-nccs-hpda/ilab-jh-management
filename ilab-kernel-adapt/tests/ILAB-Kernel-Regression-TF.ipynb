{
 "cells": [
  {
   "cell_type": "markdown",
   "id": "76350d29-6cd8-4c97-94cb-49949270814d",
   "metadata": {},
   "source": [
    "# ILAB Kernel (TensorFlow) regression notebook\n",
    "\n",
    "This notebook is intended as a regression notebook for ilab-tensorflow."
   ]
  },
  {
   "cell_type": "markdown",
   "id": "4c872d77-9a06-4f94-bf69-a8d544a39148",
   "metadata": {},
   "source": [
    "Some warnings are expected at the end of this cell, the main purpose is to have tensorflow loading."
   ]
  },
  {
   "cell_type": "code",
   "execution_count": 2,
   "id": "28091ae5-e137-4a7b-ad87-bbb8f9eaa707",
   "metadata": {},
   "outputs": [
    {
     "name": "stdout",
     "output_type": "stream",
     "text": [
      "TensorFlow version: 2.11.0\n"
     ]
    }
   ],
   "source": [
    "import tensorflow as tf\n",
    "print(\"TensorFlow version:\", tf.__version__)"
   ]
  },
  {
   "cell_type": "code",
   "execution_count": 3,
   "id": "e175e4d8-d00c-495d-8e4f-c75e98c7179b",
   "metadata": {},
   "outputs": [],
   "source": [
    "mnist = tf.keras.datasets.mnist\n",
    "\n",
    "(x_train, y_train), (x_test, y_test) = mnist.load_data()\n",
    "x_train, x_test = x_train / 255.0, x_test / 255.0\n"
   ]
  },
  {
   "cell_type": "markdown",
   "id": "48fe7a29-4c3c-4af3-aca5-d201c9f9c1dc",
   "metadata": {},
   "source": [
    "Some warnings expected at the end of this cell."
   ]
  },
  {
   "cell_type": "code",
   "execution_count": 5,
   "id": "ba87a0be-46d0-45a8-894c-032f789dfefc",
   "metadata": {},
   "outputs": [],
   "source": [
    "model = tf.keras.models.Sequential([\n",
    "  tf.keras.layers.Flatten(input_shape=(28, 28)),\n",
    "  tf.keras.layers.Dense(128, activation='relu'),\n",
    "  tf.keras.layers.Dropout(0.2),\n",
    "  tf.keras.layers.Dense(10)\n",
    "])\n"
   ]
  },
  {
   "cell_type": "code",
   "execution_count": 6,
   "id": "e05b4f71-2baf-40f1-89c5-db998cf41470",
   "metadata": {},
   "outputs": [
    {
     "data": {
      "text/plain": [
       "array([[-0.4940672 , -0.21132249,  0.5221855 , -0.51359975, -0.3843658 ,\n",
       "         0.43204692,  0.4067362 , -0.00319857,  0.63242364,  0.01386121]],\n",
       "      dtype=float32)"
      ]
     },
     "execution_count": 6,
     "metadata": {},
     "output_type": "execute_result"
    }
   ],
   "source": [
    "predictions = model(x_train[:1]).numpy()\n",
    "predictions"
   ]
  },
  {
   "cell_type": "code",
   "execution_count": 7,
   "id": "0ee253f8-eb46-4191-bc8b-847481fe27d5",
   "metadata": {},
   "outputs": [
    {
     "data": {
      "text/plain": [
       "array([[0.0539001 , 0.07151284, 0.1489164 , 0.05285751, 0.06014954,\n",
       "        0.13608049, 0.13267942, 0.08805846, 0.1662717 , 0.08957361]],\n",
       "      dtype=float32)"
      ]
     },
     "execution_count": 7,
     "metadata": {},
     "output_type": "execute_result"
    }
   ],
   "source": [
    "tf.nn.softmax(predictions).numpy()\n"
   ]
  },
  {
   "cell_type": "code",
   "execution_count": 8,
   "id": "81f6aa1c-7ac2-4a51-8c8e-15dcbe0658f7",
   "metadata": {},
   "outputs": [],
   "source": [
    "loss_fn = tf.keras.losses.SparseCategoricalCrossentropy(from_logits=True)\n"
   ]
  },
  {
   "cell_type": "code",
   "execution_count": 9,
   "id": "a0116b5d-d1e2-4a59-8a9e-997d4b010d7b",
   "metadata": {},
   "outputs": [],
   "source": [
    "model.compile(optimizer='adam',\n",
    "              loss=loss_fn,\n",
    "              metrics=['accuracy'])\n"
   ]
  },
  {
   "cell_type": "code",
   "execution_count": 10,
   "id": "e90fb8a4-a89d-4821-84f3-e28277a1c41b",
   "metadata": {},
   "outputs": [
    {
     "name": "stdout",
     "output_type": "stream",
     "text": [
      "Epoch 1/5\n",
      "1875/1875 [==============================] - 4s 2ms/step - loss: 0.2999 - accuracy: 0.9123\n",
      "Epoch 2/5\n",
      "1875/1875 [==============================] - 3s 2ms/step - loss: 0.1463 - accuracy: 0.9566\n",
      "Epoch 3/5\n",
      "1875/1875 [==============================] - 3s 2ms/step - loss: 0.1085 - accuracy: 0.9675\n",
      "Epoch 4/5\n",
      "1875/1875 [==============================] - 2s 1ms/step - loss: 0.0895 - accuracy: 0.9718\n",
      "Epoch 5/5\n",
      "1875/1875 [==============================] - 3s 2ms/step - loss: 0.0761 - accuracy: 0.9762\n"
     ]
    },
    {
     "data": {
      "text/plain": [
       "<keras.callbacks.History at 0x151018100c70>"
      ]
     },
     "execution_count": 10,
     "metadata": {},
     "output_type": "execute_result"
    }
   ],
   "source": [
    "model.fit(x_train, y_train, epochs=5)\n"
   ]
  },
  {
   "cell_type": "code",
   "execution_count": 11,
   "id": "4e5c81ee-0e6c-45d3-a855-408af6bcbb37",
   "metadata": {},
   "outputs": [
    {
     "name": "stdout",
     "output_type": "stream",
     "text": [
      "313/313 - 0s - loss: 0.0740 - accuracy: 0.9772 - 292ms/epoch - 931us/step\n"
     ]
    },
    {
     "data": {
      "text/plain": [
       "[0.07398449629545212, 0.9771999716758728]"
      ]
     },
     "execution_count": 11,
     "metadata": {},
     "output_type": "execute_result"
    }
   ],
   "source": [
    "model.evaluate(x_test,  y_test, verbose=2)\n"
   ]
  },
  {
   "cell_type": "code",
   "execution_count": 12,
   "id": "dc6e3c31-be8e-4bba-80d7-8954541d1da5",
   "metadata": {},
   "outputs": [],
   "source": [
    "import geopandas as gpd"
   ]
  },
  {
   "cell_type": "markdown",
   "id": "590811ea-948a-4763-b30b-509fe8939b55",
   "metadata": {},
   "source": [
    "In a future version of the ILAB Tensorflow kernel we will see a device listed in the following list."
   ]
  },
  {
   "cell_type": "code",
   "execution_count": 17,
   "id": "3ed4be4b-b4db-40a9-b4bf-19cf3903d212",
   "metadata": {},
   "outputs": [
    {
     "data": {
      "text/plain": [
       "[]"
      ]
     },
     "execution_count": 17,
     "metadata": {},
     "output_type": "execute_result"
    }
   ],
   "source": [
    " tf.config.list_physical_devices('GPU')"
   ]
  },
  {
   "cell_type": "code",
   "execution_count": 18,
   "id": "201462b6-13e3-4b27-b1f1-3d90ef20180b",
   "metadata": {},
   "outputs": [
    {
     "name": "stdout",
     "output_type": "stream",
     "text": [
      "PYDEVD_USE_FRAME_EVAL=NO\n",
      "JUPYTERHUB_CLIENT_ID=jupyterhub-user-jacaraba\n",
      "SLURM_STEP_ID=0\n",
      "SLURM_STEP_GPUS=3\n",
      "SLURM_NODEID=0\n",
      "SLURM_TASK_PID=1387682\n",
      "SLURM_PRIO_PROCESS=0\n",
      "JUPYTERHUB_ADMIN_ACCESS=1\n",
      "LANG=en_US.UTF-8\n",
      "SLURM_SUBMIT_DIR=/var/log/jupyterhub\n",
      "SLURM_STEPID=0\n",
      "SLURM_SRUN_COMM_HOST=10.100.172.1\n",
      "SLURM_DISTRIBUTION=cyclic\n",
      "ROCR_VISIBLE_DEVICES=3\n",
      "USE_PYGEOS=0\n",
      "SLURM_PROCID=0\n",
      "SLURM_JOB_GID=60021\n",
      "SLURMD_NODENAME=gpu001\n",
      "SLURM_TASKS_PER_NODE=1\n",
      "JUPYTERHUB_ACTIVITY_URL=http://gpujh1:8081/jupyterhub-prism/hub/api/users/jacaraba/activity\n",
      "TF2_BEHAVIOR=1\n",
      "PROJ_LIB=/panfs/ccds02/app/modules/jupyter/ilab/tensorflow-kernel/share/proj\n",
      "PROJ_DATA=/panfs/ccds02/app/modules/jupyter/ilab/tensorflow-kernel/share/proj\n",
      "SLURM_NNODES=1\n",
      "USER=jacaraba\n",
      "JUPYTERHUB_BASE_URL=/jupyterhub-prism/\n",
      "PAGER=cat\n",
      "SLURM_LAUNCH_NODE_IPADDR=10.100.172.1\n",
      "SLURM_GET_USER_ENV=1\n",
      "SLURM_STEP_TASKS_PER_NODE=1\n",
      "SLURM_GPUS=1\n",
      "JPY_PARENT_PID=1387682\n",
      "TPU_ML_PLATFORM=Tensorflow\n",
      "PWD=/panfs/ccds02/home/jacaraba\n",
      "SLURM_JOB_NODELIST=gpu001\n",
      "HOME=/home/jacaraba\n",
      "SLURM_CLUSTER_NAME=adaptgpu\n",
      "SLURM_NODELIST=gpu001\n",
      "SLURM_GPUS_ON_NODE=1\n",
      "CLICOLOR=1\n",
      "SLURM_NTASKS=1\n",
      "SLURM_UMASK=0022\n",
      "JUPYTERHUB_USER=jacaraba\n",
      "SLURM_JOB_CPUS_PER_NODE=10\n",
      "SLURM_TOPOLOGY_ADDR=gpu001\n",
      "SLURM_WORKING_CLUSTER=adaptgpu:10.100.38.107:6817:9728:109\n",
      "SM_FRAMEWORK=tf.keras\n",
      "SLURM_STEP_NODELIST=gpu001\n",
      "SLURM_JOB_NAME=ilab\n",
      "SLURM_SRUN_COMM_PORT=40359\n",
      "TMPDIR=/tmp\n",
      "SLURM_JOB_GPUS=3\n",
      "SLURM_JOBID=36516560\n",
      "PROJ_NETWORK=ON\n",
      "SLURM_CONF=/etc/slurm/slurm.conf\n",
      "JUPYTERHUB_SERVICE_PREFIX=/jupyterhub-prism/user/jacaraba/\n",
      "SLURM_NODE_ALIASES=(null)\n",
      "SLURM_JOB_QOS=normal\n",
      "SLURM_TOPOLOGY_ADDR_PATTERN=node\n",
      "JUPYTERHUB_SERVER_NAME=\n",
      "SLURM_STEP_RESV_PORTS=12303-12304\n",
      "ZE_AFFINITY_MASK=3\n",
      "SLURM_CPUS_ON_NODE=10\n",
      "SLURM_JOB_NUM_NODES=1\n",
      "TERM=xterm-color\n",
      "SHELL=/usr/local/bin/bash\n",
      "MPLBACKEND=module://matplotlib_inline.backend_inline\n",
      "SLURM_JOB_UID=836960261\n",
      "SLURM_JOB_PARTITION=compute\n",
      "SLURM_JOB_USER=jacaraba\n",
      "CUDA_VISIBLE_DEVICES=3\n",
      "SLURM_NPROCS=1\n",
      "JUPYTERHUB_API_URL=http://gpujh1:8081/jupyterhub-prism/hub/api\n",
      "SHLVL=1\n",
      "SLURM_SUBMIT_HOST=gpujh1\n",
      "SLURM_JOB_ACCOUNT=k3003\n",
      "JUPYTERHUB_HOST=\n",
      "SLURM_EXPORT_ENV=PATH,LANG,JUPYTERHUB_API_TOKEN,JPY_API_TOKEN,JUPYTERHUB_ADMIN_ACCESS,JUPYTERHUB_CLIENT_ID,JUPYTERHUB_HOST,JUPYTERHUB_OAUTH_CALLBACK_URL,JUPYTERHUB_USER,JUPYTERHUB_SERVER_NAME,JUPYTERHUB_API_URL,JUPYTERHUB_ACTIVITY_URL,JUPYTERHUB_BASE_URL,JUPYTERHUB_SERVICE_PREFIX,USER,HOME,SHELL\n",
      "JPY_API_TOKEN=52b117dfda434a21a567ff6df40863e4\n",
      "SLURM_STEP_LAUNCHER_PORT=40359\n",
      "SLURM_GTIDS=0\n",
      "JUPYTERHUB_OAUTH_CALLBACK_URL=/jupyterhub-prism/user/jacaraba/oauth_callback\n",
      "JUPYTERHUB_API_TOKEN=52b117dfda434a21a567ff6df40863e4\n",
      "PATH=/app/jupyter/ilab/lab-env/bin:/usr/local/bin:/usr/bin:/bin:/usr/cumulus/bin:/sbin:/usr/sbin\n",
      "SLURM_JOB_ID=36516560\n",
      "SLURM_STEP_NUM_TASKS=1\n",
      "SLURM_JOB_CPUS_PER_NODE_PACK_GROUP_0=10\n",
      "SLURM_STEP_NUM_NODES=1\n",
      "SLURM_LOCALID=0\n",
      "LOCALTILESERVER_CLIENT_PREFIX=jupyterhub-prism/user/jacaraba/proxy/{port}\n",
      "GPU_DEVICE_ORDINAL=3\n",
      "GIT_PAGER=cat\n",
      "_=/usr/bin/env\n"
     ]
    }
   ],
   "source": [
    "!env"
   ]
  },
  {
   "cell_type": "markdown",
   "id": "721ac630-4634-4ec4-96fc-a037ef713bc1",
   "metadata": {},
   "source": [
    "Output is expected after this cell."
   ]
  },
  {
   "cell_type": "code",
   "execution_count": 19,
   "id": "1286c9d2-90da-40fd-84c2-270880628594",
   "metadata": {},
   "outputs": [
    {
     "name": "stdout",
     "output_type": "stream",
     "text": [
      "CH\t\t\t       ITRF2008  nad.lst      projjson.schema.json\n",
      "deformation_model.schema.json  ITRF2014  other.extra  triangulation.schema.json\n",
      "GL27\t\t\t       nad27\t proj.db      world\n",
      "ITRF2000\t\t       nad83\t proj.ini\n"
     ]
    }
   ],
   "source": [
    "!ls /panfs/ccds02/app/modules/jupyter/ilab/tensorflow-kernel/share/proj"
   ]
  },
  {
   "cell_type": "code",
   "execution_count": 20,
   "id": "7395c185-1e98-4967-be2c-48f6e99e1584",
   "metadata": {},
   "outputs": [],
   "source": [
    "from osgeo import gdal\n",
    "from osgeo import osr\n",
    "from osgeo import ogr\n",
    "import numpy as np"
   ]
  },
  {
   "cell_type": "code",
   "execution_count": null,
   "id": "10fe9c0d-d635-4361-b507-c4049e872edb",
   "metadata": {},
   "outputs": [],
   "source": []
  }
 ],
 "metadata": {
  "kernelspec": {
   "display_name": "ILAB Kernel (TensorFlow)",
   "language": "python",
   "name": "tensorflow-kernel"
  },
  "language_info": {
   "codemirror_mode": {
    "name": "ipython",
    "version": 3
   },
   "file_extension": ".py",
   "mimetype": "text/x-python",
   "name": "python",
   "nbconvert_exporter": "python",
   "pygments_lexer": "ipython3",
   "version": "3.8.16"
  }
 },
 "nbformat": 4,
 "nbformat_minor": 5
}
