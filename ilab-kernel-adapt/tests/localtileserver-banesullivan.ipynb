{
 "cells": [
  {
   "cell_type": "code",
   "execution_count": 1,
   "id": "a1cd1a34-247a-44ec-a441-60e2a6594063",
   "metadata": {},
   "outputs": [
    {
     "data": {
      "text/plain": [
       "'/panfs/ccds02/app/modules/jupyter/ilab/dev/kernel/share/proj'"
      ]
     },
     "execution_count": 1,
     "metadata": {},
     "output_type": "execute_result"
    }
   ],
   "source": [
    "%env PROJ_LIB"
   ]
  },
  {
   "cell_type": "code",
   "execution_count": 2,
   "id": "df7c9464-25a2-45c3-9831-b38d229da59f",
   "metadata": {},
   "outputs": [
    {
     "data": {
      "text/plain": [
       "'/panfs/ccds02/app/modules/jupyter/ilab/dev/kernel/share/proj'"
      ]
     },
     "execution_count": 2,
     "metadata": {},
     "output_type": "execute_result"
    }
   ],
   "source": [
    "%env PROJ_DATA"
   ]
  },
  {
   "cell_type": "code",
   "execution_count": 3,
   "id": "46534f45-41f4-4232-a5d6-a3f144952216",
   "metadata": {},
   "outputs": [
    {
     "name": "stdout",
     "output_type": "stream",
     "text": [
      "env: PROJ_LIB=/panfs/ccds02/app/modules/jupyter/ilab/dev/kernel/share/proj\n"
     ]
    }
   ],
   "source": [
    "%env PROJ_LIB=/panfs/ccds02/app/modules/jupyter/ilab/dev/kernel/share/proj"
   ]
  },
  {
   "cell_type": "code",
   "execution_count": 4,
   "id": "b45be48d-c928-4fe7-ad94-9105feb3fe5b",
   "metadata": {},
   "outputs": [
    {
     "name": "stdout",
     "output_type": "stream",
     "text": [
      "env: PROJ_DATA=/panfs/ccds02/app/modules/jupyter/ilab/dev/kernel/share/proj\n"
     ]
    }
   ],
   "source": [
    "%env PROJ_DATA=/panfs/ccds02/app/modules/jupyter/ilab/dev/kernel/share/proj"
   ]
  },
  {
   "cell_type": "code",
   "execution_count": 5,
   "id": "9aa4c233-00f4-43a4-bc17-c03d8d98b714",
   "metadata": {},
   "outputs": [],
   "source": [
    "from localtileserver import TileClient, get_leaflet_tile_layer, examples"
   ]
  },
  {
   "cell_type": "code",
   "execution_count": 6,
   "id": "47ca83ea-4924-49e6-9b27-aab60b404caf",
   "metadata": {},
   "outputs": [],
   "source": [
    "from ipyleaflet import Map"
   ]
  },
  {
   "cell_type": "code",
   "execution_count": 7,
   "id": "bb627d9c-2f3d-489e-8922-2058e45c87c1",
   "metadata": {},
   "outputs": [],
   "source": [
    "# Create a TileClient from a raster file\n",
    "# client = TileClient('path/to/geo.tif')\n",
    "client = examples.get_san_francisco()  # use example data\n",
    "\n",
    "# Create ipyleaflet TileLayer from that server\n",
    "t = get_leaflet_tile_layer(client)"
   ]
  },
  {
   "cell_type": "code",
   "execution_count": 8,
   "id": "aa719303-92ca-4069-9bb2-9d4f9e259ef6",
   "metadata": {},
   "outputs": [],
   "source": [
    "# Create ipyleaflet map, add tile layer, and display\n",
    "m = Map(center=client.center(), zoom=client.default_zoom)"
   ]
  },
  {
   "cell_type": "code",
   "execution_count": 9,
   "id": "10297f29-aa3b-4a44-ab11-bd0f9e5ee09c",
   "metadata": {},
   "outputs": [
    {
     "data": {
      "application/vnd.jupyter.widget-view+json": {
       "model_id": "6c296524f01a42fdb4691daf05ce5a81",
       "version_major": 2,
       "version_minor": 0
      },
      "text/plain": [
       "Map(center=[37.752214941926994, -122.41877581711466], controls=(ZoomControl(options=['position', 'zoom_in_text…"
      ]
     },
     "execution_count": 9,
     "metadata": {},
     "output_type": "execute_result"
    }
   ],
   "source": [
    "m.add(t)"
   ]
  },
  {
   "cell_type": "code",
   "execution_count": 10,
   "id": "ee61f784-d429-44c6-8712-7a90b838fdb3",
   "metadata": {},
   "outputs": [
    {
     "data": {
      "application/vnd.jupyter.widget-view+json": {
       "model_id": "6c296524f01a42fdb4691daf05ce5a81",
       "version_major": 2,
       "version_minor": 0
      },
      "text/plain": [
       "Map(center=[37.752214941926994, -122.41877581711466], controls=(ZoomControl(options=['position', 'zoom_in_text…"
      ]
     },
     "execution_count": 10,
     "metadata": {},
     "output_type": "execute_result"
    }
   ],
   "source": [
    "m"
   ]
  },
  {
   "cell_type": "code",
   "execution_count": null,
   "id": "51d5e5fb-367f-479d-9bb4-01dcf5da5209",
   "metadata": {},
   "outputs": [],
   "source": []
  }
 ],
 "metadata": {
  "kernelspec": {
   "display_name": "DEV Kernel",
   "language": "python",
   "name": "dev"
  },
  "language_info": {
   "codemirror_mode": {
    "name": "ipython",
    "version": 3
   },
   "file_extension": ".py",
   "mimetype": "text/x-python",
   "name": "python",
   "nbconvert_exporter": "python",
   "pygments_lexer": "ipython3",
   "version": "3.12.11"
  }
 },
 "nbformat": 4,
 "nbformat_minor": 5
}
