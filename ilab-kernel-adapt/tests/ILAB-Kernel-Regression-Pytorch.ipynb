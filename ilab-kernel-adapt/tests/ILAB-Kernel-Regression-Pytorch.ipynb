{
 "cells": [
  {
   "cell_type": "markdown",
   "id": "76350d29-6cd8-4c97-94cb-49949270814d",
   "metadata": {},
   "source": [
    "# ILAB Kernel (Pytorch) regression notebook\n",
    "\n",
    "This notebook is intended as a regression notebook for ilab-tensorflow."
   ]
  },
  {
   "cell_type": "markdown",
   "id": "4c872d77-9a06-4f94-bf69-a8d544a39148",
   "metadata": {},
   "source": [
    "Some warnings are expected at the end of this cell, the main purpose is to have pytorch loading."
   ]
  },
  {
   "cell_type": "code",
   "execution_count": 1,
   "id": "28091ae5-e137-4a7b-ad87-bbb8f9eaa707",
   "metadata": {},
   "outputs": [
    {
     "name": "stdout",
     "output_type": "stream",
     "text": [
      "1.13.0\n"
     ]
    }
   ],
   "source": [
    "import torch\n",
    "import torchvision\n",
    "import torchvision.transforms as transforms\n",
    "\n",
    "print(torch.__version__)"
   ]
  },
  {
   "cell_type": "code",
   "execution_count": 2,
   "id": "e175e4d8-d00c-495d-8e4f-c75e98c7179b",
   "metadata": {},
   "outputs": [
    {
     "name": "stdout",
     "output_type": "stream",
     "text": [
      "Downloading https://www.cs.toronto.edu/~kriz/cifar-10-python.tar.gz to ./data/cifar-10-python.tar.gz\n"
     ]
    },
    {
     "data": {
      "application/vnd.jupyter.widget-view+json": {
       "model_id": "ce4b4931c64842f5a5fe25912fd0a166",
       "version_major": 2,
       "version_minor": 0
      },
      "text/plain": [
       "  0%|          | 0/170498071 [00:00<?, ?it/s]"
      ]
     },
     "metadata": {},
     "output_type": "display_data"
    },
    {
     "name": "stdout",
     "output_type": "stream",
     "text": [
      "Extracting ./data/cifar-10-python.tar.gz to ./data\n",
      "Files already downloaded and verified\n"
     ]
    }
   ],
   "source": [
    "transform = transforms.Compose(\n",
    "    [transforms.ToTensor(),\n",
    "     transforms.Normalize((0.5, 0.5, 0.5), (0.5, 0.5, 0.5))])\n",
    "\n",
    "batch_size = 4\n",
    "\n",
    "trainset = torchvision.datasets.CIFAR10(root='./data', train=True,\n",
    "                                        download=True, transform=transform)\n",
    "trainloader = torch.utils.data.DataLoader(trainset, batch_size=batch_size,\n",
    "                                          shuffle=True, num_workers=2)\n",
    "\n",
    "testset = torchvision.datasets.CIFAR10(root='./data', train=False,\n",
    "                                       download=True, transform=transform)\n",
    "testloader = torch.utils.data.DataLoader(testset, batch_size=batch_size,\n",
    "                                         shuffle=False, num_workers=2)\n",
    "\n",
    "classes = ('plane', 'car', 'bird', 'cat',\n",
    "           'deer', 'dog', 'frog', 'horse', 'ship', 'truck')\n"
   ]
  },
  {
   "cell_type": "code",
   "execution_count": 3,
   "id": "05780831-49b1-434f-8ff6-29ee81872365",
   "metadata": {},
   "outputs": [
    {
     "data": {
      "image/png": "[encoded data removed]",
      "text/plain": [
       "<Figure size 640x480 with 1 Axes>"
      ]
     },
     "metadata": {},
     "output_type": "display_data"
    },
    {
     "name": "stdout",
     "output_type": "stream",
     "text": [
      "truck dog   dog   truck\n"
     ]
    }
   ],
   "source": [
    "import matplotlib.pyplot as plt\n",
    "import numpy as np\n",
    "\n",
    "# functions to show an image\n",
    "\n",
    "\n",
    "def imshow(img):\n",
    "    img = img / 2 + 0.5     # unnormalize\n",
    "    npimg = img.numpy()\n",
    "    plt.imshow(np.transpose(npimg, (1, 2, 0)))\n",
    "    plt.show()\n",
    "\n",
    "\n",
    "# get some random training images\n",
    "dataiter = iter(trainloader)\n",
    "images, labels = next(dataiter)\n",
    "\n",
    "# show images\n",
    "imshow(torchvision.utils.make_grid(images))\n",
    "# print labels\n",
    "print(' '.join(f'{classes[labels[j]]:5s}' for j in range(batch_size)))"
   ]
  },
  {
   "cell_type": "markdown",
   "id": "48fe7a29-4c3c-4af3-aca5-d201c9f9c1dc",
   "metadata": {},
   "source": [
    "Some warnings expected at the end of this cell."
   ]
  },
  {
   "cell_type": "code",
   "execution_count": 4,
   "id": "ba87a0be-46d0-45a8-894c-032f789dfefc",
   "metadata": {},
   "outputs": [],
   "source": [
    "import torch.nn as nn\n",
    "import torch.nn.functional as F\n",
    "\n",
    "\n",
    "class Net(nn.Module):\n",
    "    def __init__(self):\n",
    "        super().__init__()\n",
    "        self.conv1 = nn.Conv2d(3, 6, 5)\n",
    "        self.pool = nn.MaxPool2d(2, 2)\n",
    "        self.conv2 = nn.Conv2d(6, 16, 5)\n",
    "        self.fc1 = nn.Linear(16 * 5 * 5, 120)\n",
    "        self.fc2 = nn.Linear(120, 84)\n",
    "        self.fc3 = nn.Linear(84, 10)\n",
    "\n",
    "    def forward(self, x):\n",
    "        x = self.pool(F.relu(self.conv1(x)))\n",
    "        x = self.pool(F.relu(self.conv2(x)))\n",
    "        x = torch.flatten(x, 1) # flatten all dimensions except batch\n",
    "        x = F.relu(self.fc1(x))\n",
    "        x = F.relu(self.fc2(x))\n",
    "        x = self.fc3(x)\n",
    "        return x\n",
    "\n",
    "\n",
    "net = Net()"
   ]
  },
  {
   "cell_type": "code",
   "execution_count": 5,
   "id": "e05b4f71-2baf-40f1-89c5-db998cf41470",
   "metadata": {},
   "outputs": [],
   "source": [
    "import torch.optim as optim\n",
    "\n",
    "criterion = nn.CrossEntropyLoss()\n",
    "optimizer = optim.SGD(net.parameters(), lr=0.001, momentum=0.9)"
   ]
  },
  {
   "cell_type": "code",
   "execution_count": 6,
   "id": "0ee253f8-eb46-4191-bc8b-847481fe27d5",
   "metadata": {},
   "outputs": [
    {
     "name": "stdout",
     "output_type": "stream",
     "text": [
      "[1,  2000] loss: 2.224\n",
      "[1,  4000] loss: 1.879\n",
      "[1,  6000] loss: 1.680\n",
      "[1,  8000] loss: 1.597\n",
      "[1, 10000] loss: 1.518\n",
      "[1, 12000] loss: 1.452\n",
      "[2,  2000] loss: 1.405\n",
      "[2,  4000] loss: 1.361\n",
      "[2,  6000] loss: 1.357\n",
      "[2,  8000] loss: 1.330\n",
      "[2, 10000] loss: 1.288\n",
      "[2, 12000] loss: 1.275\n",
      "Finished Training\n"
     ]
    }
   ],
   "source": [
    "for epoch in range(2):  # loop over the dataset multiple times\n",
    "\n",
    "    running_loss = 0.0\n",
    "    for i, data in enumerate(trainloader, 0):\n",
    "        # get the inputs; data is a list of [inputs, labels]\n",
    "        inputs, labels = data\n",
    "\n",
    "        # zero the parameter gradients\n",
    "        optimizer.zero_grad()\n",
    "\n",
    "        # forward + backward + optimize\n",
    "        outputs = net(inputs)\n",
    "        loss = criterion(outputs, labels)\n",
    "        loss.backward()\n",
    "        optimizer.step()\n",
    "\n",
    "        # print statistics\n",
    "        running_loss += loss.item()\n",
    "        if i % 2000 == 1999:    # print every 2000 mini-batches\n",
    "            print(f'[{epoch + 1}, {i + 1:5d}] loss: {running_loss / 2000:.3f}')\n",
    "            running_loss = 0.0\n",
    "\n",
    "print('Finished Training')"
   ]
  },
  {
   "cell_type": "code",
   "execution_count": 7,
   "id": "dc6e3c31-be8e-4bba-80d7-8954541d1da5",
   "metadata": {},
   "outputs": [],
   "source": [
    "import geopandas as gpd"
   ]
  },
  {
   "cell_type": "markdown",
   "id": "590811ea-948a-4763-b30b-509fe8939b55",
   "metadata": {},
   "source": [
    "Expected list with a GPU"
   ]
  },
  {
   "cell_type": "code",
   "execution_count": 8,
   "id": "3ed4be4b-b4db-40a9-b4bf-19cf3903d212",
   "metadata": {},
   "outputs": [
    {
     "data": {
      "text/plain": [
       "1"
      ]
     },
     "execution_count": 8,
     "metadata": {},
     "output_type": "execute_result"
    }
   ],
   "source": [
    "torch.cuda.device_count()"
   ]
  },
  {
   "cell_type": "code",
   "execution_count": 9,
   "id": "201462b6-13e3-4b27-b1f1-3d90ef20180b",
   "metadata": {},
   "outputs": [
    {
     "name": "stdout",
     "output_type": "stream",
     "text": [
      "JUPYTERHUB_CLIENT_ID=jupyterhub-user-jacaraba\n",
      "SLURM_STEP_ID=0\n",
      "SLURM_STEP_GPUS=3\n",
      "SLURM_NODEID=0\n",
      "SLURM_TASK_PID=1387682\n",
      "SLURM_PRIO_PROCESS=0\n",
      "JUPYTERHUB_ADMIN_ACCESS=1\n",
      "LANG=en_US.UTF-8\n",
      "SLURM_SUBMIT_DIR=/var/log/jupyterhub\n",
      "SLURM_STEPID=0\n",
      "SLURM_SRUN_COMM_HOST=10.100.172.1\n",
      "SLURM_DISTRIBUTION=cyclic\n",
      "ROCR_VISIBLE_DEVICES=3\n",
      "SLURM_PROCID=0\n",
      "SLURM_JOB_GID=60021\n",
      "SLURMD_NODENAME=gpu001\n",
      "SLURM_TASKS_PER_NODE=1\n",
      "JUPYTERHUB_ACTIVITY_URL=http://gpujh1:8081/jupyterhub-prism/hub/api/users/jacaraba/activity\n",
      "PROJ_LIB=/panfs/ccds02/app/modules/jupyter/ilab/pytorch-kernel/share/proj\n",
      "PROJ_DATA=/panfs/ccds02/app/modules/jupyter/ilab/pytorch-kernel/share/proj\n",
      "SLURM_NNODES=1\n",
      "USER=jacaraba\n",
      "JUPYTERHUB_BASE_URL=/jupyterhub-prism/\n",
      "PAGER=cat\n",
      "SLURM_LAUNCH_NODE_IPADDR=10.100.172.1\n",
      "SLURM_GET_USER_ENV=1\n",
      "SLURM_STEP_TASKS_PER_NODE=1\n",
      "SLURM_GPUS=1\n",
      "JPY_PARENT_PID=1387682\n",
      "PWD=/panfs/ccds02/home/jacaraba\n",
      "SLURM_JOB_NODELIST=gpu001\n",
      "HOME=/home/jacaraba\n",
      "SLURM_CLUSTER_NAME=adaptgpu\n",
      "SLURM_NODELIST=gpu001\n",
      "SLURM_GPUS_ON_NODE=1\n",
      "CLICOLOR=1\n",
      "SLURM_NTASKS=1\n",
      "SLURM_UMASK=0022\n",
      "JUPYTERHUB_USER=jacaraba\n",
      "SLURM_JOB_CPUS_PER_NODE=10\n",
      "SLURM_TOPOLOGY_ADDR=gpu001\n",
      "SLURM_WORKING_CLUSTER=adaptgpu:10.100.38.107:6817:9728:109\n",
      "SLURM_STEP_NODELIST=gpu001\n",
      "SLURM_JOB_NAME=ilab\n",
      "SLURM_SRUN_COMM_PORT=40359\n",
      "TMPDIR=/tmp\n",
      "SLURM_JOB_GPUS=3\n",
      "SLURM_JOBID=36516560\n",
      "PROJ_NETWORK=ON\n",
      "SLURM_CONF=/etc/slurm/slurm.conf\n",
      "JUPYTERHUB_SERVICE_PREFIX=/jupyterhub-prism/user/jacaraba/\n",
      "SLURM_NODE_ALIASES=(null)\n",
      "SLURM_JOB_QOS=normal\n",
      "SLURM_TOPOLOGY_ADDR_PATTERN=node\n",
      "JUPYTERHUB_SERVER_NAME=\n",
      "SLURM_STEP_RESV_PORTS=12303-12304\n",
      "ZE_AFFINITY_MASK=3\n",
      "SLURM_CPUS_ON_NODE=10\n",
      "SLURM_JOB_NUM_NODES=1\n",
      "TERM=xterm-color\n",
      "SHELL=/usr/local/bin/bash\n",
      "MPLBACKEND=module://matplotlib_inline.backend_inline\n",
      "SLURM_JOB_UID=836960261\n",
      "SLURM_JOB_PARTITION=compute\n",
      "SLURM_JOB_USER=jacaraba\n",
      "CUDA_VISIBLE_DEVICES=3\n",
      "SLURM_NPROCS=1\n",
      "JUPYTERHUB_API_URL=http://gpujh1:8081/jupyterhub-prism/hub/api\n",
      "SHLVL=1\n",
      "SLURM_SUBMIT_HOST=gpujh1\n",
      "SLURM_JOB_ACCOUNT=k3003\n",
      "JUPYTERHUB_HOST=\n",
      "SLURM_EXPORT_ENV=PATH,LANG,JUPYTERHUB_API_TOKEN,JPY_API_TOKEN,JUPYTERHUB_ADMIN_ACCESS,JUPYTERHUB_CLIENT_ID,JUPYTERHUB_HOST,JUPYTERHUB_OAUTH_CALLBACK_URL,JUPYTERHUB_USER,JUPYTERHUB_SERVER_NAME,JUPYTERHUB_API_URL,JUPYTERHUB_ACTIVITY_URL,JUPYTERHUB_BASE_URL,JUPYTERHUB_SERVICE_PREFIX,USER,HOME,SHELL\n",
      "JPY_API_TOKEN=52b117dfda434a21a567ff6df40863e4\n",
      "SLURM_STEP_LAUNCHER_PORT=40359\n",
      "SLURM_GTIDS=0\n",
      "JUPYTERHUB_OAUTH_CALLBACK_URL=/jupyterhub-prism/user/jacaraba/oauth_callback\n",
      "JUPYTERHUB_API_TOKEN=52b117dfda434a21a567ff6df40863e4\n",
      "PATH=/app/jupyter/ilab/lab-env/bin:/usr/local/bin:/usr/bin:/bin:/usr/cumulus/bin:/sbin:/usr/sbin\n",
      "SLURM_JOB_ID=36516560\n",
      "SLURM_STEP_NUM_TASKS=1\n",
      "SLURM_JOB_CPUS_PER_NODE_PACK_GROUP_0=10\n",
      "SLURM_STEP_NUM_NODES=1\n",
      "SLURM_LOCALID=0\n",
      "LOCALTILESERVER_CLIENT_PREFIX=jupyterhub-prism/user/jacaraba/proxy/{port}\n",
      "GPU_DEVICE_ORDINAL=3\n",
      "GIT_PAGER=cat\n",
      "_=/usr/bin/env\n"
     ]
    }
   ],
   "source": [
    "!env"
   ]
  },
  {
   "cell_type": "markdown",
   "id": "721ac630-4634-4ec4-96fc-a037ef713bc1",
   "metadata": {},
   "source": [
    "Output is expected after this cell."
   ]
  },
  {
   "cell_type": "code",
   "execution_count": 10,
   "id": "1286c9d2-90da-40fd-84c2-270880628594",
   "metadata": {},
   "outputs": [
    {
     "name": "stdout",
     "output_type": "stream",
     "text": [
      "CH\t\t\t       ITRF2008  nad.lst      projjson.schema.json\n",
      "deformation_model.schema.json  ITRF2014  other.extra  triangulation.schema.json\n",
      "GL27\t\t\t       nad27\t proj.db      world\n",
      "ITRF2000\t\t       nad83\t proj.ini\n"
     ]
    }
   ],
   "source": [
    "!ls /panfs/ccds02/app/modules/jupyter/ilab/pytorch-kernel/share/proj"
   ]
  },
  {
   "cell_type": "code",
   "execution_count": 11,
   "id": "7395c185-1e98-4967-be2c-48f6e99e1584",
   "metadata": {},
   "outputs": [],
   "source": [
    "from osgeo import gdal\n",
    "from osgeo import osr\n",
    "from osgeo import ogr\n",
    "import numpy as np"
   ]
  },
  {
   "cell_type": "code",
   "execution_count": null,
   "id": "10fe9c0d-d635-4361-b507-c4049e872edb",
   "metadata": {},
   "outputs": [],
   "source": []
  }
 ],
 "metadata": {
  "kernelspec": {
   "display_name": "ILAB Kernel (Pytorch)",
   "language": "python",
   "name": "pytorch-kernel"
  },
  "language_info": {
   "codemirror_mode": {
    "name": "ipython",
    "version": 3
   },
   "file_extension": ".py",
   "mimetype": "text/x-python",
   "name": "python",
   "nbconvert_exporter": "python",
   "pygments_lexer": "ipython3",
   "version": "3.9.15"
  }
 },
 "nbformat": 4,
 "nbformat_minor": 5
}
